{
 "cells": [
  {
   "cell_type": "code",
   "execution_count": 1,
   "id": "7965184d",
   "metadata": {
    "_cell_guid": "b1076dfc-b9ad-4769-8c92-a6c4dae69d19",
    "_uuid": "8f2839f25d086af736a60e9eeb907d3b93b6e0e5",
    "execution": {
     "iopub.execute_input": "2023-03-11T21:29:58.887874Z",
     "iopub.status.busy": "2023-03-11T21:29:58.887467Z",
     "iopub.status.idle": "2023-03-11T21:29:58.906377Z",
     "shell.execute_reply": "2023-03-11T21:29:58.905344Z"
    },
    "papermill": {
     "duration": 0.035453,
     "end_time": "2023-03-11T21:29:58.910148",
     "exception": false,
     "start_time": "2023-03-11T21:29:58.874695",
     "status": "completed"
    },
    "tags": []
   },
   "outputs": [
    {
     "name": "stdout",
     "output_type": "stream",
     "text": [
      "/kaggle/input/josaa-engineering-schools-seat-allocation-jee/2021.csv\n",
      "/kaggle/input/josaa-engineering-schools-seat-allocation-jee/2017.csv\n",
      "/kaggle/input/josaa-engineering-schools-seat-allocation-jee/2019.csv\n",
      "/kaggle/input/josaa-engineering-schools-seat-allocation-jee/2020.csv\n",
      "/kaggle/input/josaa-engineering-schools-seat-allocation-jee/2018.csv\n",
      "/kaggle/input/josaa-engineering-schools-seat-allocation-jee/2022.csv\n",
      "/kaggle/input/josaa-engineering-schools-seat-allocation-jee/2016.csv\n"
     ]
    }
   ],
   "source": [
    "# This Python 3 environment comes with many helpful analytics libraries installed\n",
    "# It is defined by the kaggle/python Docker image: https://github.com/kaggle/docker-python\n",
    "# For example, here's several helpful packages to load\n",
    "\n",
    "import numpy as np # linear algebra\n",
    "import pandas as pd # data processing, CSV file I/O (e.g. pd.read_csv)\n",
    "\n",
    "# Input data files are available in the read-only \"../input/\" directory\n",
    "# For example, running this (by clicking run or pressing Shift+Enter) will list all files under the input directory\n",
    "\n",
    "import os\n",
    "for dirname, _, filenames in os.walk('/kaggle/input'):\n",
    "    for filename in filenames:\n",
    "        print(os.path.join(dirname, filename))\n",
    "\n",
    "# You can write up to 20GB to the current directory (/kaggle/working/) that gets preserved as output when you create a version using \"Save & Run All\" \n",
    "# You can also write temporary files to /kaggle/temp/, but they won't be saved outside of the current session"
   ]
  },
  {
   "cell_type": "markdown",
   "id": "21630649",
   "metadata": {
    "papermill": {
     "duration": 0.009141,
     "end_time": "2023-03-11T21:29:58.929876",
     "exception": false,
     "start_time": "2023-03-11T21:29:58.920735",
     "status": "completed"
    },
    "tags": []
   },
   "source": [
    "** The objective is to trai the model using the past available data and then evaluate its performance on the data from the year 2022.**"
   ]
  },
  {
   "cell_type": "markdown",
   "id": "1da389dd",
   "metadata": {
    "papermill": {
     "duration": 0.009139,
     "end_time": "2023-03-11T21:29:58.948452",
     "exception": false,
     "start_time": "2023-03-11T21:29:58.939313",
     "status": "completed"
    },
    "tags": []
   },
   "source": [
    "#  The objective is to train the model using the past available data and then evaluate its performance on the data from the year 2022."
   ]
  },
  {
   "cell_type": "markdown",
   "id": "3d4eacb9",
   "metadata": {
    "papermill": {
     "duration": 0.008995,
     "end_time": "2023-03-11T21:29:58.966734",
     "exception": false,
     "start_time": "2023-03-11T21:29:58.957739",
     "status": "completed"
    },
    "tags": []
   },
   "source": [
    "For the 2016 and 2017 data, we had no reservation based on gender, so taking that data into consideration wouldn't make sense."
   ]
  },
  {
   "cell_type": "code",
   "execution_count": 2,
   "id": "9fa8ebcd",
   "metadata": {
    "execution": {
     "iopub.execute_input": "2023-03-11T21:29:58.988198Z",
     "iopub.status.busy": "2023-03-11T21:29:58.987832Z",
     "iopub.status.idle": "2023-03-11T21:30:03.187848Z",
     "shell.execute_reply": "2023-03-11T21:30:03.186604Z"
    },
    "papermill": {
     "duration": 4.213627,
     "end_time": "2023-03-11T21:30:03.190619",
     "exception": false,
     "start_time": "2023-03-11T21:29:58.976992",
     "status": "completed"
    },
    "tags": []
   },
   "outputs": [
    {
     "data": {
      "text/html": [
       "<style type='text/css'>\n",
       ".datatable table.frame { margin-bottom: 0; }\n",
       ".datatable table.frame thead { border-bottom: none; }\n",
       ".datatable table.frame tr.coltypes td {  color: #FFFFFF;  line-height: 6px;  padding: 0 0.5em;}\n",
       ".datatable .bool    { background: #DDDD99; }\n",
       ".datatable .object  { background: #565656; }\n",
       ".datatable .int     { background: #5D9E5D; }\n",
       ".datatable .float   { background: #4040CC; }\n",
       ".datatable .str     { background: #CC4040; }\n",
       ".datatable .time    { background: #40CC40; }\n",
       ".datatable .row_index {  background: var(--jp-border-color3);  border-right: 1px solid var(--jp-border-color0);  color: var(--jp-ui-font-color3);  font-size: 9px;}\n",
       ".datatable .frame tbody td { text-align: left; }\n",
       ".datatable .frame tr.coltypes .row_index {  background: var(--jp-border-color0);}\n",
       ".datatable th:nth-child(2) { padding-left: 12px; }\n",
       ".datatable .hellipsis {  color: var(--jp-cell-editor-border-color);}\n",
       ".datatable .vellipsis {  background: var(--jp-layout-color0);  color: var(--jp-cell-editor-border-color);}\n",
       ".datatable .na {  color: var(--jp-cell-editor-border-color);  font-size: 80%;}\n",
       ".datatable .sp {  opacity: 0.25;}\n",
       ".datatable .footer { font-size: 9px; }\n",
       ".datatable .frame_dimensions {  background: var(--jp-border-color3);  border-top: 1px solid var(--jp-border-color0);  color: var(--jp-ui-font-color3);  display: inline-block;  opacity: 0.6;  padding: 1px 10px 1px 5px;}\n",
       "</style>\n"
      ],
      "text/plain": [
       "<IPython.core.display.HTML object>"
      ]
     },
     "metadata": {},
     "output_type": "display_data"
    },
    {
     "data": {
      "text/html": [
       "<div>\n",
       "<style scoped>\n",
       "    .dataframe tbody tr th:only-of-type {\n",
       "        vertical-align: middle;\n",
       "    }\n",
       "\n",
       "    .dataframe tbody tr th {\n",
       "        vertical-align: top;\n",
       "    }\n",
       "\n",
       "    .dataframe thead th {\n",
       "        text-align: right;\n",
       "    }\n",
       "</style>\n",
       "<table border=\"1\" class=\"dataframe\">\n",
       "  <thead>\n",
       "    <tr style=\"text-align: right;\">\n",
       "      <th></th>\n",
       "      <th>Institute</th>\n",
       "      <th>Academic Program Name</th>\n",
       "      <th>Quota</th>\n",
       "      <th>Seat Type</th>\n",
       "      <th>Gender</th>\n",
       "      <th>Opening Rank</th>\n",
       "      <th>Closing Rank</th>\n",
       "      <th>Year</th>\n",
       "      <th>Round</th>\n",
       "    </tr>\n",
       "  </thead>\n",
       "  <tbody>\n",
       "    <tr>\n",
       "      <th>0</th>\n",
       "      <td>Indian Institute of Technology Bhubaneswar</td>\n",
       "      <td>Civil Engineering (4 Years, Bachelor of Techno...</td>\n",
       "      <td>AI</td>\n",
       "      <td>OPEN</td>\n",
       "      <td>Gender-Neutral</td>\n",
       "      <td>5057</td>\n",
       "      <td>6780.0</td>\n",
       "      <td>2018</td>\n",
       "      <td>1</td>\n",
       "    </tr>\n",
       "    <tr>\n",
       "      <th>1</th>\n",
       "      <td>Indian Institute of Technology Bhubaneswar</td>\n",
       "      <td>Civil Engineering (4 Years, Bachelor of Techno...</td>\n",
       "      <td>AI</td>\n",
       "      <td>OPEN</td>\n",
       "      <td>Female-only (including Supernumerary)</td>\n",
       "      <td>10078</td>\n",
       "      <td>10789.0</td>\n",
       "      <td>2018</td>\n",
       "      <td>1</td>\n",
       "    </tr>\n",
       "  </tbody>\n",
       "</table>\n",
       "</div>"
      ],
      "text/plain": [
       "                                    Institute  \\\n",
       "0  Indian Institute of Technology Bhubaneswar   \n",
       "1  Indian Institute of Technology Bhubaneswar   \n",
       "\n",
       "                               Academic Program Name Quota Seat Type  \\\n",
       "0  Civil Engineering (4 Years, Bachelor of Techno...    AI      OPEN   \n",
       "1  Civil Engineering (4 Years, Bachelor of Techno...    AI      OPEN   \n",
       "\n",
       "                                  Gender Opening Rank Closing Rank  Year  \\\n",
       "0                         Gender-Neutral         5057       6780.0  2018   \n",
       "1  Female-only (including Supernumerary)        10078      10789.0  2018   \n",
       "\n",
       "   Round  \n",
       "0      1  \n",
       "1      1  "
      ]
     },
     "execution_count": 2,
     "metadata": {},
     "output_type": "execute_result"
    }
   ],
   "source": [
    "import pandas as pd\n",
    "import numpy as np\n",
    "from sklearn import linear_model\n",
    "from sklearn.preprocessing import LabelEncoder \n",
    "from sklearn.model_selection import train_test_split\n",
    "from matplotlib import pyplot as plt\n",
    "from sklearn.preprocessing import OneHotEncoder\n",
    "from sklearn.preprocessing import OrdinalEncoder\n",
    "import seaborn as sns\n",
    "import matplotlib.pyplot as plt\n",
    "import plotly.offline as py\n",
    "import plotly.graph_objs as go\n",
    "import plotly.tools as tls\n",
    "from sklearn.ensemble import RandomForestClassifier\n",
    "from sklearn.linear_model import LogisticRegression\n",
    "from sklearn.neighbors import KNeighborsClassifier\n",
    "from lightgbm import LGBMClassifier\n",
    "from catboost import CatBoostClassifier\n",
    "from sklearn.ensemble import ExtraTreesClassifier\n",
    "from sklearn.tree import DecisionTreeClassifier\n",
    "from sklearn.metrics import accuracy_score\n",
    "from sklearn.metrics import confusion_matrix\n",
    "from sklearn.metrics import classification_report\n",
    "from sklearn.metrics import plot_confusion_matrix\n",
    "#f1 = pd.read_csv('/kaggle/input/josaa-engineering-schools-seat-allocation-jee/2016.csv')\n",
    "#f2 = pd.read_csv('/kaggle/input/josaa-engineering-schools-seat-allocation-jee/2017.csv')\n",
    "\n",
    "f3 = pd.read_csv('/kaggle/input/josaa-engineering-schools-seat-allocation-jee/2018.csv')\n",
    "f4 = pd.read_csv('/kaggle/input/josaa-engineering-schools-seat-allocation-jee/2019.csv')\n",
    "f5 = pd.read_csv('/kaggle/input/josaa-engineering-schools-seat-allocation-jee/2020.csv')\n",
    "f6 = pd.read_csv('/kaggle/input/josaa-engineering-schools-seat-allocation-jee/2021.csv')\n",
    "train = pd.concat([f3,f4,f5,f6])\n",
    "test = pd.read_csv('/kaggle/input/josaa-engineering-schools-seat-allocation-jee/2022.csv')\n",
    "total = pd.concat([train,test])\n",
    "train.head(2)"
   ]
  },
  {
   "cell_type": "markdown",
   "id": "137b737c",
   "metadata": {
    "execution": {
     "iopub.execute_input": "2023-03-11T13:15:28.281114Z",
     "iopub.status.busy": "2023-03-11T13:15:28.280724Z",
     "iopub.status.idle": "2023-03-11T13:15:28.288246Z",
     "shell.execute_reply": "2023-03-11T13:15:28.286966Z",
     "shell.execute_reply.started": "2023-03-11T13:15:28.281080Z"
    },
    "papermill": {
     "duration": 0.009507,
     "end_time": "2023-03-11T21:30:03.210280",
     "exception": false,
     "start_time": "2023-03-11T21:30:03.200773",
     "status": "completed"
    },
    "tags": []
   },
   "source": [
    "# parameters\n",
    "## I - Outputs\n",
    "1. `Institute`\n",
    "2. `Academic Program Name`\n",
    "\n",
    "## II - Inputs\n",
    "1. `Quota`\n",
    "2. `Seat Type`\n",
    "3. `Gender`\n",
    "4. `Opening Rank`\n",
    "5. `Closing Rank`\n",
    "6. `Year`\n",
    "7. `Round`\n"
   ]
  },
  {
   "cell_type": "markdown",
   "id": "ca7dd2ff",
   "metadata": {
    "papermill": {
     "duration": 0.009345,
     "end_time": "2023-03-11T21:30:03.229329",
     "exception": false,
     "start_time": "2023-03-11T21:30:03.219984",
     "status": "completed"
    },
    "tags": []
   },
   "source": []
  },
  {
   "cell_type": "code",
   "execution_count": 3,
   "id": "3d73955e",
   "metadata": {
    "execution": {
     "iopub.execute_input": "2023-03-11T21:30:03.250400Z",
     "iopub.status.busy": "2023-03-11T21:30:03.249970Z",
     "iopub.status.idle": "2023-03-11T21:30:03.325062Z",
     "shell.execute_reply": "2023-03-11T21:30:03.323578Z"
    },
    "papermill": {
     "duration": 0.088715,
     "end_time": "2023-03-11T21:30:03.327683",
     "exception": false,
     "start_time": "2023-03-11T21:30:03.238968",
     "status": "completed"
    },
    "tags": []
   },
   "outputs": [
    {
     "data": {
      "text/plain": [
       "Institute                0\n",
       "Academic Program Name    1\n",
       "Quota                    1\n",
       "Seat Type                2\n",
       "Gender                   3\n",
       "Opening Rank             4\n",
       "Closing Rank             4\n",
       "Year                     0\n",
       "Round                    0\n",
       "dtype: int64"
      ]
     },
     "execution_count": 3,
     "metadata": {},
     "output_type": "execute_result"
    }
   ],
   "source": [
    "train.isnull().sum()"
   ]
  },
  {
   "cell_type": "code",
   "execution_count": 4,
   "id": "7c309157",
   "metadata": {
    "execution": {
     "iopub.execute_input": "2023-03-11T21:30:03.349922Z",
     "iopub.status.busy": "2023-03-11T21:30:03.349195Z",
     "iopub.status.idle": "2023-03-11T21:30:03.437161Z",
     "shell.execute_reply": "2023-03-11T21:30:03.435225Z"
    },
    "papermill": {
     "duration": 0.102801,
     "end_time": "2023-03-11T21:30:03.440399",
     "exception": false,
     "start_time": "2023-03-11T21:30:03.337598",
     "status": "completed"
    },
    "tags": []
   },
   "outputs": [
    {
     "name": "stdout",
     "output_type": "stream",
     "text": [
      "<class 'pandas.core.frame.DataFrame'>\n",
      "Int64Index: 189636 entries, 0 to 31889\n",
      "Data columns (total 9 columns):\n",
      " #   Column                 Non-Null Count   Dtype \n",
      "---  ------                 --------------   ----- \n",
      " 0   Institute              189636 non-null  object\n",
      " 1   Academic Program Name  189635 non-null  object\n",
      " 2   Quota                  189635 non-null  object\n",
      " 3   Seat Type              189634 non-null  object\n",
      " 4   Gender                 189633 non-null  object\n",
      " 5   Opening Rank           189632 non-null  object\n",
      " 6   Closing Rank           189632 non-null  object\n",
      " 7   Year                   189636 non-null  int64 \n",
      " 8   Round                  189636 non-null  int64 \n",
      "dtypes: int64(2), object(7)\n",
      "memory usage: 14.5+ MB\n"
     ]
    }
   ],
   "source": [
    "train.info()"
   ]
  },
  {
   "cell_type": "code",
   "execution_count": 5,
   "id": "b632f069",
   "metadata": {
    "execution": {
     "iopub.execute_input": "2023-03-11T21:30:03.462514Z",
     "iopub.status.busy": "2023-03-11T21:30:03.461756Z",
     "iopub.status.idle": "2023-03-11T21:30:03.722253Z",
     "shell.execute_reply": "2023-03-11T21:30:03.720586Z"
    },
    "papermill": {
     "duration": 0.274737,
     "end_time": "2023-03-11T21:30:03.725205",
     "exception": false,
     "start_time": "2023-03-11T21:30:03.450468",
     "status": "completed"
    },
    "tags": []
   },
   "outputs": [
    {
     "name": "stdout",
     "output_type": "stream",
     "text": [
      "['38P', '845P', '405P', '830P', '406P', '68P', '786P', '1990P', '215P', '111P', '1327P', '1539P', '743P', '793P', '940P', '785P', '108P', '226P', '409P', '741P', '1185P', '660P', '207P', '116P', '693P', '580P', '285P', '937P', '1362P', '12P', '137P', '615P', '162P', '323P', '541P', '836P', '1388P', '166P', '776P', '174P', '48P', '709P', '575P', '62P', '887P', '778P', '382P', '594P', '1135P', '804P', '189P', '93P', '447P', '241P', '839P', '417P', '617P', '102P', '1397P', '454P', '36P', '76P', '1201P', '420P', '1229P', '718P', '1679P', '1269P', '236P', '746P', '764P', '325P', '200P', '665P', '1757P', '1705P', '212P', '815P', '220P', '23P', '444P', '1225P', '254P', '316P', '1240P', '1253P', '560P', '58P', '1124P', '716P', '769P', '153P', '493P', '678P', '1064P', '175P', '1392P', '195P', '1055P', '557P', '876P', '761P', '567P', '1207P', '1512P', '442P', '252P', '57P', '703P', '1094P', '1387P', '192P', '209P', '1045P', '532P', '640P', '1232P', '64P', '607P', '1160P', '117P', '1501P', '467P', '848P', '51P', '379P', '251P', '1172P', '657P', '618P', '123P', '188P', '1057P', '133P', '1313P', '1137P', '731P', '1P', '95P', '324P', '37P', '127P', '738P', '357P', '600P', '63P', '31P', '799P', '267P', '365P', '344P', '578P', '491P', '356P', '915P', '708P', '996P', '750P', '865P', '555P', '144P', '1413P', '1259P', '171P', '611P', '868P', '2301P', '671P', '859P', '1101P', '653P', '27P', '41P', '371P', '158P', '330P', '1081P', '388P', '2201P', '1174P', '1123P', '503P', '590P', '161P', '486P', '208P', '172P', '645P', '1111P', '300P', '825P', '77P', '2229P', '53P', '275P', '630P', '1126P', '110P', '2331.1', '528P', '13P', '643P', '60P', '847P', '1000P', '129P', '471P', '2115P', '2160P', '881P', '1542P', '968P', '1326P', '265P', '277P', '259P', '1088P', '723P', '911P', '740P', '2339P', '100P', '59P', '737P', '2314P', '462P', '229P', '244P', '783P', '893P', '1206P', '529P', '97P', '1423P', '714P', '877P', '1116P', '697P', '145P', '899P', '20P', '276P', '1014P', '225P', '683P', '309P', '303P', '70P', '963P', '387P', '753P', '841P', '1398P', '34P', '558P', '736P', '39P', '2417P', '1039P', '1203P', '1241P', '163P', '727P', '616P', '808P', '248P', '270P', '299P', '698P', '916P', '332P', '767P', '637P', '765P', '1246P', '170P', '72P', '543P', '819P', '1288P', '176P', '788P', '119P', '609P', '182P', '312P', '1170P', '6P', '470P', '929P', '223P', '1032P', '235P', '453P', '1153P', '525P', '50P', '879P', '2444P', '197P', '206P', '73P', '663.1', '568P', '1548P', '8P', '1568P', '326P', '24P', '755P', '1097P', '1366P', '687P', '89P', '460P', '18P', '103P', '451P', '157P', '1140P', '91P', '734P', '87P', '663P', '875P', '1221.5', '418P', '165P', '46P', '169P', '614P', '399P', '56P', '489P', '818P', '1271P', '246P', '180P', '892P', '1242P', '686P', '944P', '927P', '1858.1', '222P', '852P', '1065P', '748P', '345P', '539.1', '935P', '78P', '838P', '583P', '337P', '322P', '336P', '42P', '179P', '1186P', '29P', '1021P', '1183P', '66P', '715P', '1041P', '17P', '266P', '970P', '849P', '219P', '9P', '739P', '290P', '186P', '21P', '69P', '577P', '497P', '840P', '701P', '856P', '1244P', '482P', '79P', '1939P', '829P', '126P', '867P', '413P', '121P', '4P', '450P', '695P', '579P', '474P', '40P', '1446P', '1089P', '2020P', '317P', '1085P', '94P', '395.1', '446P', '691P', '664P', '16P', '866P', '650P', '1252P', '572P', '864P', '109.1', '52P', '358P', '610P', '923P', '962P', '370P', '633P', '2108P', '237P', '1251P', '1015P', '5P', '515P', '1040P', '245P', '304P', '221P', '2485P', '415P', '950P', '150P', '2279P', '1260P', '424P', '675P', '466P', '972P', '367P', '1173P', '1306P', '1343P', '1075P', '238P', '688P', '386P', '1290.1', '305P', '777P', '591P', '506P', '377P', '800P', '509P', '464P', '1212P', '1831.1', '253P', '1076P', '440P', '3P', '1261P', '573P', '366P', '136P', '224P', '148P', '565P', '2022P', '534P', '870P', '576P', '1540P', '342P', '505P', '797P', '1393P', '1060P', '659P', '713P', '924P', '416P', '54P', '647P', '1406P', '520P', '242P', '690P', '67P', '381P', '888P', '658P', '763P', '203P', '22P', '613P', '286P', '7P', '308P', '756P', '143P', '74P', '113P', '523P', '976P', '125P', '2167P', '1226P', '1072P', '501P', '178P', '184P', '563P', '1133P', '649P', '798P', '837P', '1077P', '283P', '1861P', '1152P', '670P', '268P', '445P', '331P', '301P', '642P', '654P', '472P', '411P', '791P', '508P', '535P', '380P', '313P', '262P', '122P', '1600P', '107P', '14P', '32P', '30P', '204P', '1749P', '210P', '468P', '255P', '759P', '152P', '584.1', '699P', '280.1', '217P', '1038P', '167P', '428P', '75P', '985P', '1177P', '258P', '1686P', '1217P', '71P', '814P', '549P', '492P', '249P', '227P', '569P', '341P', '84P', '943P', '185P', '722P', '956P', '1396P', '1360P', '1922P', '333P', '934P', '139P', '885P', '2P', '794P', '1068P', '15P', '105P', '25P', '978P', '1279P', '744P', '85P', '1909P', '267.1', '979P', '349P', '269P', '141P', '1013P', '83P', '574P', '378P', '422P', '599P', '919P', '47P', '19P', '10P', '395P', '853P', '90P', '735P', '655P', '239P', '527P', '729P', '1079P', '721P', '720P', '80P', '928P', '44P', '194P', '1061P', '86P', '187P', '131P', '26P', '61P', '362P', '904P', '1301P', '513.1', '338P', '292P', '82P', '824P', '149P', '1063P', '872P', '958P', '43P', '510P', '603P', '193P', '401P', '190P', '1860P', '939P', '667P', '953P', '805P', '1025P', '199P', '1355P', '531P', '391P', '1908P', '801P', '930P', '828P', '159P', '128P', '760P', '894P', '1258P', '260P', '1247P', '1401P', '1148P', '11P', '1389P', '1255P', '65P', '644P', '507P', '969P', '1345P', '733P', '124P', '684P', '138P', '822P', '1143P', '154P', '114P', '586P', '516P', '400P', '257P', '228P', '385P', '118P', '782P', '390P', '1700P', '45P', '231P', '1033P', '147P', '452P', '587P', '681P', '112P', '98P', '2152P', '135P', '28P', '487P', '682P', '183P', '954P', '1102P', '498P', '196P', '307P', '350P', '821P', '164P']\n"
     ]
    }
   ],
   "source": [
    "train = train.dropna()\n",
    "test = test.dropna()\n",
    "non_integers = list(set(train[\"Opening Rank\"][~train[\"Opening Rank\"].apply(lambda x: str(x).isdigit())]))\n",
    "print(non_integers)\n"
   ]
  },
  {
   "cell_type": "code",
   "execution_count": 6,
   "id": "252e2eb3",
   "metadata": {
    "execution": {
     "iopub.execute_input": "2023-03-11T21:30:03.747895Z",
     "iopub.status.busy": "2023-03-11T21:30:03.747003Z",
     "iopub.status.idle": "2023-03-11T21:30:04.913247Z",
     "shell.execute_reply": "2023-03-11T21:30:04.911346Z"
    },
    "papermill": {
     "duration": 1.181081,
     "end_time": "2023-03-11T21:30:04.916608",
     "exception": false,
     "start_time": "2023-03-11T21:30:03.735527",
     "status": "completed"
    },
    "tags": []
   },
   "outputs": [
    {
     "name": "stdout",
     "output_type": "stream",
     "text": [
      "0\n"
     ]
    }
   ],
   "source": [
    "import re\n",
    "def to_numeric(x):\n",
    "    x = str(x)\n",
    "    x = x.replace(\",\", \"\")\n",
    "    x = re.sub(\"[a-zA-Z]\", \"\", x)\n",
    "   \n",
    "    return float(x) if '.' in x else int(x)\n",
    "\n",
    "# Convert train data columns to numeric and integer types\n",
    "train[\"Opening Rank\"] = train[\"Opening Rank\"].apply(to_numeric)\n",
    "train[\"Closing Rank\"] = train[\"Closing Rank\"].apply(to_numeric)\n",
    "train[\"Opening Rank\"] = train[\"Opening Rank\"].astype(int)\n",
    "train[\"Closing Rank\"] = train[\"Closing Rank\"].astype(int)\n",
    "\n",
    "# Convert test data columns to numeric and integer types\n",
    "test[\"Opening Rank\"] = test[\"Opening Rank\"].apply(to_numeric)\n",
    "test[\"Closing Rank\"] = test[\"Closing Rank\"].apply(to_numeric)\n",
    "test[\"Opening Rank\"] = test[\"Opening Rank\"].astype(int)\n",
    "test[\"Closing Rank\"] = test[\"Closing Rank\"].astype(int)\n",
    "\n",
    "# Check for non-integer values in the train data\n",
    "non_integers = list(set(train[\"Opening Rank\"][~train[\"Opening Rank\"].apply(lambda x: str(x).isdigit())]))\n",
    "print(len(non_integers))\n"
   ]
  },
  {
   "cell_type": "code",
   "execution_count": 7,
   "id": "3fa4ec21",
   "metadata": {
    "execution": {
     "iopub.execute_input": "2023-03-11T21:30:04.940062Z",
     "iopub.status.busy": "2023-03-11T21:30:04.939665Z",
     "iopub.status.idle": "2023-03-11T21:30:04.999691Z",
     "shell.execute_reply": "2023-03-11T21:30:04.998849Z"
    },
    "papermill": {
     "duration": 0.075136,
     "end_time": "2023-03-11T21:30:05.002704",
     "exception": false,
     "start_time": "2023-03-11T21:30:04.927568",
     "status": "completed"
    },
    "tags": []
   },
   "outputs": [
    {
     "name": "stdout",
     "output_type": "stream",
     "text": [
      "<class 'pandas.core.frame.DataFrame'>\n",
      "Int64Index: 189632 entries, 0 to 31889\n",
      "Data columns (total 9 columns):\n",
      " #   Column                 Non-Null Count   Dtype \n",
      "---  ------                 --------------   ----- \n",
      " 0   Institute              189632 non-null  object\n",
      " 1   Academic Program Name  189632 non-null  object\n",
      " 2   Quota                  189632 non-null  object\n",
      " 3   Seat Type              189632 non-null  object\n",
      " 4   Gender                 189632 non-null  object\n",
      " 5   Opening Rank           189632 non-null  int64 \n",
      " 6   Closing Rank           189632 non-null  int64 \n",
      " 7   Year                   189632 non-null  int64 \n",
      " 8   Round                  189632 non-null  int64 \n",
      "dtypes: int64(4), object(5)\n",
      "memory usage: 14.5+ MB\n"
     ]
    }
   ],
   "source": [
    "train.info()"
   ]
  },
  {
   "cell_type": "code",
   "execution_count": 8,
   "id": "b61eb1dc",
   "metadata": {
    "execution": {
     "iopub.execute_input": "2023-03-11T21:30:05.026360Z",
     "iopub.status.busy": "2023-03-11T21:30:05.025954Z",
     "iopub.status.idle": "2023-03-11T21:30:05.041598Z",
     "shell.execute_reply": "2023-03-11T21:30:05.040261Z"
    },
    "papermill": {
     "duration": 0.030021,
     "end_time": "2023-03-11T21:30:05.043921",
     "exception": false,
     "start_time": "2023-03-11T21:30:05.013900",
     "status": "completed"
    },
    "tags": []
   },
   "outputs": [
    {
     "data": {
      "text/html": [
       "<div>\n",
       "<style scoped>\n",
       "    .dataframe tbody tr th:only-of-type {\n",
       "        vertical-align: middle;\n",
       "    }\n",
       "\n",
       "    .dataframe tbody tr th {\n",
       "        vertical-align: top;\n",
       "    }\n",
       "\n",
       "    .dataframe thead th {\n",
       "        text-align: right;\n",
       "    }\n",
       "</style>\n",
       "<table border=\"1\" class=\"dataframe\">\n",
       "  <thead>\n",
       "    <tr style=\"text-align: right;\">\n",
       "      <th></th>\n",
       "      <th>Institute</th>\n",
       "      <th>Academic Program Name</th>\n",
       "      <th>Quota</th>\n",
       "      <th>Seat Type</th>\n",
       "      <th>Gender</th>\n",
       "      <th>Opening Rank</th>\n",
       "      <th>Closing Rank</th>\n",
       "      <th>Year</th>\n",
       "      <th>Round</th>\n",
       "    </tr>\n",
       "  </thead>\n",
       "  <tbody>\n",
       "    <tr>\n",
       "      <th>0</th>\n",
       "      <td>Indian Institute of Technology Bhubaneswar</td>\n",
       "      <td>Civil Engineering (4 Years, Bachelor of Techno...</td>\n",
       "      <td>AI</td>\n",
       "      <td>OPEN</td>\n",
       "      <td>Gender-Neutral</td>\n",
       "      <td>5057</td>\n",
       "      <td>6780</td>\n",
       "      <td>2018</td>\n",
       "      <td>1</td>\n",
       "    </tr>\n",
       "    <tr>\n",
       "      <th>1</th>\n",
       "      <td>Indian Institute of Technology Bhubaneswar</td>\n",
       "      <td>Civil Engineering (4 Years, Bachelor of Techno...</td>\n",
       "      <td>AI</td>\n",
       "      <td>OPEN</td>\n",
       "      <td>Female-only (including Supernumerary)</td>\n",
       "      <td>10078</td>\n",
       "      <td>10789</td>\n",
       "      <td>2018</td>\n",
       "      <td>1</td>\n",
       "    </tr>\n",
       "    <tr>\n",
       "      <th>2</th>\n",
       "      <td>Indian Institute of Technology Bhubaneswar</td>\n",
       "      <td>Civil Engineering (4 Years, Bachelor of Techno...</td>\n",
       "      <td>AI</td>\n",
       "      <td>OBC-NCL</td>\n",
       "      <td>Gender-Neutral</td>\n",
       "      <td>1649</td>\n",
       "      <td>2592</td>\n",
       "      <td>2018</td>\n",
       "      <td>1</td>\n",
       "    </tr>\n",
       "    <tr>\n",
       "      <th>3</th>\n",
       "      <td>Indian Institute of Technology Bhubaneswar</td>\n",
       "      <td>Civil Engineering (4 Years, Bachelor of Techno...</td>\n",
       "      <td>AI</td>\n",
       "      <td>OBC-NCL</td>\n",
       "      <td>Female-only (including Supernumerary)</td>\n",
       "      <td>4343</td>\n",
       "      <td>4522</td>\n",
       "      <td>2018</td>\n",
       "      <td>1</td>\n",
       "    </tr>\n",
       "    <tr>\n",
       "      <th>4</th>\n",
       "      <td>Indian Institute of Technology Bhubaneswar</td>\n",
       "      <td>Civil Engineering (4 Years, Bachelor of Techno...</td>\n",
       "      <td>AI</td>\n",
       "      <td>SC</td>\n",
       "      <td>Gender-Neutral</td>\n",
       "      <td>1054</td>\n",
       "      <td>1233</td>\n",
       "      <td>2018</td>\n",
       "      <td>1</td>\n",
       "    </tr>\n",
       "  </tbody>\n",
       "</table>\n",
       "</div>"
      ],
      "text/plain": [
       "                                    Institute  \\\n",
       "0  Indian Institute of Technology Bhubaneswar   \n",
       "1  Indian Institute of Technology Bhubaneswar   \n",
       "2  Indian Institute of Technology Bhubaneswar   \n",
       "3  Indian Institute of Technology Bhubaneswar   \n",
       "4  Indian Institute of Technology Bhubaneswar   \n",
       "\n",
       "                               Academic Program Name Quota Seat Type  \\\n",
       "0  Civil Engineering (4 Years, Bachelor of Techno...    AI      OPEN   \n",
       "1  Civil Engineering (4 Years, Bachelor of Techno...    AI      OPEN   \n",
       "2  Civil Engineering (4 Years, Bachelor of Techno...    AI   OBC-NCL   \n",
       "3  Civil Engineering (4 Years, Bachelor of Techno...    AI   OBC-NCL   \n",
       "4  Civil Engineering (4 Years, Bachelor of Techno...    AI        SC   \n",
       "\n",
       "                                  Gender  Opening Rank  Closing Rank  Year  \\\n",
       "0                         Gender-Neutral          5057          6780  2018   \n",
       "1  Female-only (including Supernumerary)         10078         10789  2018   \n",
       "2                         Gender-Neutral          1649          2592  2018   \n",
       "3  Female-only (including Supernumerary)          4343          4522  2018   \n",
       "4                         Gender-Neutral          1054          1233  2018   \n",
       "\n",
       "   Round  \n",
       "0      1  \n",
       "1      1  \n",
       "2      1  \n",
       "3      1  \n",
       "4      1  "
      ]
     },
     "execution_count": 8,
     "metadata": {},
     "output_type": "execute_result"
    }
   ],
   "source": [
    "train.head()"
   ]
  },
  {
   "cell_type": "code",
   "execution_count": 9,
   "id": "101ccccf",
   "metadata": {
    "execution": {
     "iopub.execute_input": "2023-03-11T21:30:05.068900Z",
     "iopub.status.busy": "2023-03-11T21:30:05.067504Z",
     "iopub.status.idle": "2023-03-11T21:30:05.123941Z",
     "shell.execute_reply": "2023-03-11T21:30:05.122751Z"
    },
    "papermill": {
     "duration": 0.071371,
     "end_time": "2023-03-11T21:30:05.126429",
     "exception": false,
     "start_time": "2023-03-11T21:30:05.055058",
     "status": "completed"
    },
    "tags": []
   },
   "outputs": [
    {
     "data": {
      "text/plain": [
       "Institute                0\n",
       "Academic Program Name    0\n",
       "Quota                    0\n",
       "Seat Type                0\n",
       "Gender                   0\n",
       "Opening Rank             0\n",
       "Closing Rank             0\n",
       "Year                     0\n",
       "Round                    0\n",
       "dtype: int64"
      ]
     },
     "execution_count": 9,
     "metadata": {},
     "output_type": "execute_result"
    }
   ],
   "source": [
    "train.isnull().sum()"
   ]
  },
  {
   "cell_type": "code",
   "execution_count": 10,
   "id": "3c036c09",
   "metadata": {
    "execution": {
     "iopub.execute_input": "2023-03-11T21:30:05.149779Z",
     "iopub.status.busy": "2023-03-11T21:30:05.149235Z",
     "iopub.status.idle": "2023-03-11T21:30:05.274763Z",
     "shell.execute_reply": "2023-03-11T21:30:05.273702Z"
    },
    "papermill": {
     "duration": 0.140101,
     "end_time": "2023-03-11T21:30:05.277486",
     "exception": false,
     "start_time": "2023-03-11T21:30:05.137385",
     "status": "completed"
    },
    "tags": []
   },
   "outputs": [
    {
     "data": {
      "text/plain": [
       "0"
      ]
     },
     "execution_count": 10,
     "metadata": {},
     "output_type": "execute_result"
    }
   ],
   "source": [
    "train.duplicated().sum()"
   ]
  },
  {
   "cell_type": "code",
   "execution_count": 11,
   "id": "e30dff6e",
   "metadata": {
    "execution": {
     "iopub.execute_input": "2023-03-11T21:30:05.301878Z",
     "iopub.status.busy": "2023-03-11T21:30:05.300719Z",
     "iopub.status.idle": "2023-03-11T21:30:05.478346Z",
     "shell.execute_reply": "2023-03-11T21:30:05.477095Z"
    },
    "papermill": {
     "duration": 0.192339,
     "end_time": "2023-03-11T21:30:05.480845",
     "exception": false,
     "start_time": "2023-03-11T21:30:05.288506",
     "status": "completed"
    },
    "tags": []
   },
   "outputs": [
    {
     "data": {
      "text/html": [
       "<div>\n",
       "<style scoped>\n",
       "    .dataframe tbody tr th:only-of-type {\n",
       "        vertical-align: middle;\n",
       "    }\n",
       "\n",
       "    .dataframe tbody tr th {\n",
       "        vertical-align: top;\n",
       "    }\n",
       "\n",
       "    .dataframe thead th {\n",
       "        text-align: right;\n",
       "    }\n",
       "</style>\n",
       "<table border=\"1\" class=\"dataframe\">\n",
       "  <thead>\n",
       "    <tr style=\"text-align: right;\">\n",
       "      <th></th>\n",
       "      <th>Institute</th>\n",
       "      <th>Academic Program Name</th>\n",
       "      <th>Quota</th>\n",
       "      <th>Seat Type</th>\n",
       "      <th>Gender</th>\n",
       "      <th>Opening Rank</th>\n",
       "      <th>Closing Rank</th>\n",
       "      <th>Year</th>\n",
       "      <th>Round</th>\n",
       "    </tr>\n",
       "  </thead>\n",
       "  <tbody>\n",
       "    <tr>\n",
       "      <th>0</th>\n",
       "      <td>41</td>\n",
       "      <td>52</td>\n",
       "      <td>AI</td>\n",
       "      <td>OPEN</td>\n",
       "      <td>Gender-Neutral</td>\n",
       "      <td>5057</td>\n",
       "      <td>6780</td>\n",
       "      <td>2018</td>\n",
       "      <td>1</td>\n",
       "    </tr>\n",
       "    <tr>\n",
       "      <th>1</th>\n",
       "      <td>41</td>\n",
       "      <td>52</td>\n",
       "      <td>AI</td>\n",
       "      <td>OPEN</td>\n",
       "      <td>Female-only (including Supernumerary)</td>\n",
       "      <td>10078</td>\n",
       "      <td>10789</td>\n",
       "      <td>2018</td>\n",
       "      <td>1</td>\n",
       "    </tr>\n",
       "  </tbody>\n",
       "</table>\n",
       "</div>"
      ],
      "text/plain": [
       "   Institute  Academic Program Name Quota Seat Type  \\\n",
       "0         41                     52    AI      OPEN   \n",
       "1         41                     52    AI      OPEN   \n",
       "\n",
       "                                  Gender  Opening Rank  Closing Rank  Year  \\\n",
       "0                         Gender-Neutral          5057          6780  2018   \n",
       "1  Female-only (including Supernumerary)         10078         10789  2018   \n",
       "\n",
       "   Round  \n",
       "0      1  \n",
       "1      1  "
      ]
     },
     "execution_count": 11,
     "metadata": {},
     "output_type": "execute_result"
    }
   ],
   "source": [
    "# concatenate train and test datasets\n",
    "combined = pd.concat([train, test], axis=0)\n",
    "# create an instance of the encoder\n",
    "encoder = LabelEncoder()\n",
    "\n",
    "# loop through each column to encode\n",
    "for col in ['Institute', 'Academic Program Name']:\n",
    "    # fit the encoder on the combined dataset\n",
    "    encoder.fit(combined[col])\n",
    "    # encode the training and testing data using the same encoder\n",
    "    train[col] = encoder.transform(train[col])\n",
    "    test[col] = encoder.transform(test[col])\n",
    "train.head(2)"
   ]
  },
  {
   "cell_type": "code",
   "execution_count": 12,
   "id": "fd7b0017",
   "metadata": {
    "execution": {
     "iopub.execute_input": "2023-03-11T21:30:05.505841Z",
     "iopub.status.busy": "2023-03-11T21:30:05.504669Z",
     "iopub.status.idle": "2023-03-11T21:30:05.549026Z",
     "shell.execute_reply": "2023-03-11T21:30:05.547599Z"
    },
    "papermill": {
     "duration": 0.059391,
     "end_time": "2023-03-11T21:30:05.551749",
     "exception": false,
     "start_time": "2023-03-11T21:30:05.492358",
     "status": "completed"
    },
    "tags": []
   },
   "outputs": [
    {
     "name": "stdout",
     "output_type": "stream",
     "text": [
      "<class 'pandas.core.frame.DataFrame'>\n",
      "Int64Index: 189632 entries, 0 to 31889\n",
      "Data columns (total 9 columns):\n",
      " #   Column                 Non-Null Count   Dtype \n",
      "---  ------                 --------------   ----- \n",
      " 0   Institute              189632 non-null  int64 \n",
      " 1   Academic Program Name  189632 non-null  int64 \n",
      " 2   Quota                  189632 non-null  object\n",
      " 3   Seat Type              189632 non-null  object\n",
      " 4   Gender                 189632 non-null  object\n",
      " 5   Opening Rank           189632 non-null  int64 \n",
      " 6   Closing Rank           189632 non-null  int64 \n",
      " 7   Year                   189632 non-null  int64 \n",
      " 8   Round                  189632 non-null  int64 \n",
      "dtypes: int64(6), object(3)\n",
      "memory usage: 14.5+ MB\n"
     ]
    }
   ],
   "source": [
    "train.info()"
   ]
  },
  {
   "cell_type": "markdown",
   "id": "c93b8dbd",
   "metadata": {
    "papermill": {
     "duration": 0.010768,
     "end_time": "2023-03-11T21:30:05.573560",
     "exception": false,
     "start_time": "2023-03-11T21:30:05.562792",
     "status": "completed"
    },
    "tags": []
   },
   "source": [
    "#Scaling the Year, Rpening Rank, Closing Rank, Round column"
   ]
  },
  {
   "cell_type": "code",
   "execution_count": 13,
   "id": "31c3c598",
   "metadata": {
    "execution": {
     "iopub.execute_input": "2023-03-11T21:30:05.597784Z",
     "iopub.status.busy": "2023-03-11T21:30:05.597046Z",
     "iopub.status.idle": "2023-03-11T21:30:05.668730Z",
     "shell.execute_reply": "2023-03-11T21:30:05.667389Z"
    },
    "papermill": {
     "duration": 0.086559,
     "end_time": "2023-03-11T21:30:05.671254",
     "exception": false,
     "start_time": "2023-03-11T21:30:05.584695",
     "status": "completed"
    },
    "tags": []
   },
   "outputs": [
    {
     "data": {
      "text/html": [
       "<div>\n",
       "<style scoped>\n",
       "    .dataframe tbody tr th:only-of-type {\n",
       "        vertical-align: middle;\n",
       "    }\n",
       "\n",
       "    .dataframe tbody tr th {\n",
       "        vertical-align: top;\n",
       "    }\n",
       "\n",
       "    .dataframe thead th {\n",
       "        text-align: right;\n",
       "    }\n",
       "</style>\n",
       "<table border=\"1\" class=\"dataframe\">\n",
       "  <thead>\n",
       "    <tr style=\"text-align: right;\">\n",
       "      <th></th>\n",
       "      <th>Institute</th>\n",
       "      <th>Academic Program Name</th>\n",
       "      <th>Opening Rank</th>\n",
       "      <th>Closing Rank</th>\n",
       "      <th>Year</th>\n",
       "      <th>Round</th>\n",
       "    </tr>\n",
       "  </thead>\n",
       "  <tbody>\n",
       "    <tr>\n",
       "      <th>count</th>\n",
       "      <td>189632.000000</td>\n",
       "      <td>189632.000000</td>\n",
       "      <td>1.896320e+05</td>\n",
       "      <td>1.896320e+05</td>\n",
       "      <td>189632.000000</td>\n",
       "      <td>189632.000000</td>\n",
       "    </tr>\n",
       "    <tr>\n",
       "      <th>mean</th>\n",
       "      <td>67.599255</td>\n",
       "      <td>101.752362</td>\n",
       "      <td>9.709113e+03</td>\n",
       "      <td>1.278893e+04</td>\n",
       "      <td>2019.388162</td>\n",
       "      <td>3.783254</td>\n",
       "    </tr>\n",
       "    <tr>\n",
       "      <th>std</th>\n",
       "      <td>29.654604</td>\n",
       "      <td>56.641832</td>\n",
       "      <td>3.061512e+04</td>\n",
       "      <td>4.286135e+04</td>\n",
       "      <td>1.069319</td>\n",
       "      <td>1.941926</td>\n",
       "    </tr>\n",
       "    <tr>\n",
       "      <th>min</th>\n",
       "      <td>0.000000</td>\n",
       "      <td>0.000000</td>\n",
       "      <td>1.000000e+00</td>\n",
       "      <td>1.000000e+00</td>\n",
       "      <td>2018.000000</td>\n",
       "      <td>1.000000</td>\n",
       "    </tr>\n",
       "    <tr>\n",
       "      <th>25%</th>\n",
       "      <td>46.000000</td>\n",
       "      <td>52.000000</td>\n",
       "      <td>9.360000e+02</td>\n",
       "      <td>1.166000e+03</td>\n",
       "      <td>2018.000000</td>\n",
       "      <td>2.000000</td>\n",
       "    </tr>\n",
       "    <tr>\n",
       "      <th>50%</th>\n",
       "      <td>72.000000</td>\n",
       "      <td>88.000000</td>\n",
       "      <td>3.122000e+03</td>\n",
       "      <td>3.881000e+03</td>\n",
       "      <td>2019.000000</td>\n",
       "      <td>4.000000</td>\n",
       "    </tr>\n",
       "    <tr>\n",
       "      <th>75%</th>\n",
       "      <td>92.000000</td>\n",
       "      <td>155.000000</td>\n",
       "      <td>8.642000e+03</td>\n",
       "      <td>1.065400e+04</td>\n",
       "      <td>2020.000000</td>\n",
       "      <td>5.000000</td>\n",
       "    </tr>\n",
       "    <tr>\n",
       "      <th>max</th>\n",
       "      <td>118.000000</td>\n",
       "      <td>221.000000</td>\n",
       "      <td>1.082601e+06</td>\n",
       "      <td>1.144790e+06</td>\n",
       "      <td>2022.000000</td>\n",
       "      <td>7.000000</td>\n",
       "    </tr>\n",
       "  </tbody>\n",
       "</table>\n",
       "</div>"
      ],
      "text/plain": [
       "           Institute  Academic Program Name  Opening Rank  Closing Rank  \\\n",
       "count  189632.000000          189632.000000  1.896320e+05  1.896320e+05   \n",
       "mean       67.599255             101.752362  9.709113e+03  1.278893e+04   \n",
       "std        29.654604              56.641832  3.061512e+04  4.286135e+04   \n",
       "min         0.000000               0.000000  1.000000e+00  1.000000e+00   \n",
       "25%        46.000000              52.000000  9.360000e+02  1.166000e+03   \n",
       "50%        72.000000              88.000000  3.122000e+03  3.881000e+03   \n",
       "75%        92.000000             155.000000  8.642000e+03  1.065400e+04   \n",
       "max       118.000000             221.000000  1.082601e+06  1.144790e+06   \n",
       "\n",
       "                Year          Round  \n",
       "count  189632.000000  189632.000000  \n",
       "mean     2019.388162       3.783254  \n",
       "std         1.069319       1.941926  \n",
       "min      2018.000000       1.000000  \n",
       "25%      2018.000000       2.000000  \n",
       "50%      2019.000000       4.000000  \n",
       "75%      2020.000000       5.000000  \n",
       "max      2022.000000       7.000000  "
      ]
     },
     "execution_count": 13,
     "metadata": {},
     "output_type": "execute_result"
    }
   ],
   "source": [
    "train.describe()"
   ]
  },
  {
   "cell_type": "code",
   "execution_count": null,
   "id": "e8af7167",
   "metadata": {
    "papermill": {
     "duration": 0.011261,
     "end_time": "2023-03-11T21:30:05.693673",
     "exception": false,
     "start_time": "2023-03-11T21:30:05.682412",
     "status": "completed"
    },
    "tags": []
   },
   "outputs": [],
   "source": []
  },
  {
   "cell_type": "code",
   "execution_count": null,
   "id": "bf6d4ead",
   "metadata": {
    "papermill": {
     "duration": 0.011148,
     "end_time": "2023-03-11T21:30:05.716414",
     "exception": false,
     "start_time": "2023-03-11T21:30:05.705266",
     "status": "completed"
    },
    "tags": []
   },
   "outputs": [],
   "source": []
  },
  {
   "cell_type": "code",
   "execution_count": 14,
   "id": "340c0c4c",
   "metadata": {
    "execution": {
     "iopub.execute_input": "2023-03-11T21:30:05.741176Z",
     "iopub.status.busy": "2023-03-11T21:30:05.740444Z",
     "iopub.status.idle": "2023-03-11T21:30:05.756633Z",
     "shell.execute_reply": "2023-03-11T21:30:05.755630Z"
    },
    "papermill": {
     "duration": 0.031473,
     "end_time": "2023-03-11T21:30:05.759255",
     "exception": false,
     "start_time": "2023-03-11T21:30:05.727782",
     "status": "completed"
    },
    "tags": []
   },
   "outputs": [],
   "source": [
    "x_train = train.drop([\"Academic Program Name\", \"Institute\"], axis=1)\n",
    "x_test = test.drop([\"Academic Program Name\", \"Institute\"], axis=1)\n"
   ]
  },
  {
   "cell_type": "code",
   "execution_count": 15,
   "id": "d5799a95",
   "metadata": {
    "execution": {
     "iopub.execute_input": "2023-03-11T21:30:05.783743Z",
     "iopub.status.busy": "2023-03-11T21:30:05.783030Z",
     "iopub.status.idle": "2023-03-11T21:30:05.894205Z",
     "shell.execute_reply": "2023-03-11T21:30:05.893060Z"
    },
    "papermill": {
     "duration": 0.126663,
     "end_time": "2023-03-11T21:30:05.897019",
     "exception": false,
     "start_time": "2023-03-11T21:30:05.770356",
     "status": "completed"
    },
    "tags": []
   },
   "outputs": [
    {
     "data": {
      "text/html": [
       "<div>\n",
       "<style scoped>\n",
       "    .dataframe tbody tr th:only-of-type {\n",
       "        vertical-align: middle;\n",
       "    }\n",
       "\n",
       "    .dataframe tbody tr th {\n",
       "        vertical-align: top;\n",
       "    }\n",
       "\n",
       "    .dataframe thead th {\n",
       "        text-align: right;\n",
       "    }\n",
       "</style>\n",
       "<table border=\"1\" class=\"dataframe\">\n",
       "  <thead>\n",
       "    <tr style=\"text-align: right;\">\n",
       "      <th></th>\n",
       "      <th>Institute</th>\n",
       "      <th>Academic Program Name</th>\n",
       "      <th>Opening Rank</th>\n",
       "      <th>Closing Rank</th>\n",
       "      <th>Year</th>\n",
       "      <th>Round</th>\n",
       "    </tr>\n",
       "  </thead>\n",
       "  <tbody>\n",
       "    <tr>\n",
       "      <th>Institute</th>\n",
       "      <td>1.000000</td>\n",
       "      <td>-0.004537</td>\n",
       "      <td>0.085328</td>\n",
       "      <td>0.085255</td>\n",
       "      <td>-0.030408</td>\n",
       "      <td>-0.003044</td>\n",
       "    </tr>\n",
       "    <tr>\n",
       "      <th>Academic Program Name</th>\n",
       "      <td>-0.004537</td>\n",
       "      <td>1.000000</td>\n",
       "      <td>0.029281</td>\n",
       "      <td>0.022552</td>\n",
       "      <td>0.002970</td>\n",
       "      <td>-0.000947</td>\n",
       "    </tr>\n",
       "    <tr>\n",
       "      <th>Opening Rank</th>\n",
       "      <td>0.085328</td>\n",
       "      <td>0.029281</td>\n",
       "      <td>1.000000</td>\n",
       "      <td>0.917538</td>\n",
       "      <td>0.008188</td>\n",
       "      <td>0.018114</td>\n",
       "    </tr>\n",
       "    <tr>\n",
       "      <th>Closing Rank</th>\n",
       "      <td>0.085255</td>\n",
       "      <td>0.022552</td>\n",
       "      <td>0.917538</td>\n",
       "      <td>1.000000</td>\n",
       "      <td>-0.002955</td>\n",
       "      <td>0.020236</td>\n",
       "    </tr>\n",
       "    <tr>\n",
       "      <th>Year</th>\n",
       "      <td>-0.030408</td>\n",
       "      <td>0.002970</td>\n",
       "      <td>0.008188</td>\n",
       "      <td>-0.002955</td>\n",
       "      <td>1.000000</td>\n",
       "      <td>-0.073123</td>\n",
       "    </tr>\n",
       "    <tr>\n",
       "      <th>Round</th>\n",
       "      <td>-0.003044</td>\n",
       "      <td>-0.000947</td>\n",
       "      <td>0.018114</td>\n",
       "      <td>0.020236</td>\n",
       "      <td>-0.073123</td>\n",
       "      <td>1.000000</td>\n",
       "    </tr>\n",
       "  </tbody>\n",
       "</table>\n",
       "</div>"
      ],
      "text/plain": [
       "                       Institute  Academic Program Name  Opening Rank  \\\n",
       "Institute               1.000000              -0.004537      0.085328   \n",
       "Academic Program Name  -0.004537               1.000000      0.029281   \n",
       "Opening Rank            0.085328               0.029281      1.000000   \n",
       "Closing Rank            0.085255               0.022552      0.917538   \n",
       "Year                   -0.030408               0.002970      0.008188   \n",
       "Round                  -0.003044              -0.000947      0.018114   \n",
       "\n",
       "                       Closing Rank      Year     Round  \n",
       "Institute                  0.085255 -0.030408 -0.003044  \n",
       "Academic Program Name      0.022552  0.002970 -0.000947  \n",
       "Opening Rank               0.917538  0.008188  0.018114  \n",
       "Closing Rank               1.000000 -0.002955  0.020236  \n",
       "Year                      -0.002955  1.000000 -0.073123  \n",
       "Round                      0.020236 -0.073123  1.000000  "
      ]
     },
     "execution_count": 15,
     "metadata": {},
     "output_type": "execute_result"
    }
   ],
   "source": [
    "total = pd.concat([train,test])\n",
    "total.corr()"
   ]
  },
  {
   "cell_type": "code",
   "execution_count": 16,
   "id": "fd6bea5c",
   "metadata": {
    "execution": {
     "iopub.execute_input": "2023-03-11T21:30:05.922465Z",
     "iopub.status.busy": "2023-03-11T21:30:05.922060Z",
     "iopub.status.idle": "2023-03-11T21:30:06.667471Z",
     "shell.execute_reply": "2023-03-11T21:30:06.666612Z"
    },
    "papermill": {
     "duration": 0.760711,
     "end_time": "2023-03-11T21:30:06.669705",
     "exception": false,
     "start_time": "2023-03-11T21:30:05.908994",
     "status": "completed"
    },
    "tags": []
   },
   "outputs": [
    {
     "data": {
      "text/plain": [
       "Text(0.5, 1.0, 'Correlation Matrix of Dataset')"
      ]
     },
     "execution_count": 16,
     "metadata": {},
     "output_type": "execute_result"
    },
    {
     "data": {
      "image/png": "[encoded data removed]",
      "text/plain": [
       "<Figure size 700x600 with 2 Axes>"
      ]
     },
     "metadata": {},
     "output_type": "display_data"
    }
   ],
   "source": [
    "import seaborn as sns\n",
    "import matplotlib.pyplot as plt\n",
    "#sns.heatmap(data=df.corr(),annot=True, cmap=\"coolwarm\")\n",
    "corr_matrix = total.corr()\n",
    "\n",
    "# Create heatmap with larger size\n",
    "fig, ax = plt.subplots(figsize=(7, 6))\n",
    "sns.heatmap(corr_matrix, annot=True, cmap=\"coolwarm\", ax=ax)\n",
    "ax.set_title(\"Correlation Matrix of Dataset\")"
   ]
  },
  {
   "cell_type": "code",
   "execution_count": 17,
   "id": "af7fe54d",
   "metadata": {
    "execution": {
     "iopub.execute_input": "2023-03-11T21:30:06.697404Z",
     "iopub.status.busy": "2023-03-11T21:30:06.696750Z",
     "iopub.status.idle": "2023-03-11T21:30:07.523671Z",
     "shell.execute_reply": "2023-03-11T21:30:07.522605Z"
    },
    "papermill": {
     "duration": 0.844048,
     "end_time": "2023-03-11T21:30:07.526565",
     "exception": false,
     "start_time": "2023-03-11T21:30:06.682517",
     "status": "completed"
    },
    "tags": []
   },
   "outputs": [
    {
     "data": {
      "image/png": "[encoded data removed]",
      "text/plain": [
       "<Figure size 500x800 with 6 Axes>"
      ]
     },
     "metadata": {},
     "output_type": "display_data"
    }
   ],
   "source": [
    "import matplotlib.pyplot as plt\n",
    "total.hist(figsize=(5,8))\n",
    "plt.show()"
   ]
  },
  {
   "cell_type": "code",
   "execution_count": 18,
   "id": "1e715687",
   "metadata": {
    "execution": {
     "iopub.execute_input": "2023-03-11T21:30:07.556132Z",
     "iopub.status.busy": "2023-03-11T21:30:07.555309Z",
     "iopub.status.idle": "2023-03-11T21:30:07.601278Z",
     "shell.execute_reply": "2023-03-11T21:30:07.599999Z"
    },
    "papermill": {
     "duration": 0.06357,
     "end_time": "2023-03-11T21:30:07.603823",
     "exception": false,
     "start_time": "2023-03-11T21:30:07.540253",
     "status": "completed"
    },
    "tags": []
   },
   "outputs": [
    {
     "data": {
      "text/html": [
       "<div>\n",
       "<style scoped>\n",
       "    .dataframe tbody tr th:only-of-type {\n",
       "        vertical-align: middle;\n",
       "    }\n",
       "\n",
       "    .dataframe tbody tr th {\n",
       "        vertical-align: top;\n",
       "    }\n",
       "\n",
       "    .dataframe thead th {\n",
       "        text-align: right;\n",
       "    }\n",
       "</style>\n",
       "<table border=\"1\" class=\"dataframe\">\n",
       "  <thead>\n",
       "    <tr style=\"text-align: right;\">\n",
       "      <th></th>\n",
       "      <th>Institute</th>\n",
       "      <th>Academic Program Name</th>\n",
       "      <th>Quota</th>\n",
       "      <th>Seat Type</th>\n",
       "      <th>Gender</th>\n",
       "      <th>Opening Rank</th>\n",
       "      <th>Closing Rank</th>\n",
       "      <th>Year</th>\n",
       "      <th>Round</th>\n",
       "    </tr>\n",
       "  </thead>\n",
       "  <tbody>\n",
       "    <tr>\n",
       "      <th>0</th>\n",
       "      <td>41</td>\n",
       "      <td>52</td>\n",
       "      <td>AI</td>\n",
       "      <td>OPEN</td>\n",
       "      <td>Gender-Neutral</td>\n",
       "      <td>-0.151955</td>\n",
       "      <td>-0.140195</td>\n",
       "      <td>-1.298178</td>\n",
       "      <td>-1.433248</td>\n",
       "    </tr>\n",
       "    <tr>\n",
       "      <th>1</th>\n",
       "      <td>41</td>\n",
       "      <td>52</td>\n",
       "      <td>AI</td>\n",
       "      <td>OPEN</td>\n",
       "      <td>Female-only (including Supernumerary)</td>\n",
       "      <td>0.012049</td>\n",
       "      <td>-0.046660</td>\n",
       "      <td>-1.298178</td>\n",
       "      <td>-1.433248</td>\n",
       "    </tr>\n",
       "  </tbody>\n",
       "</table>\n",
       "</div>"
      ],
      "text/plain": [
       "   Institute  Academic Program Name Quota Seat Type  \\\n",
       "0         41                     52    AI      OPEN   \n",
       "1         41                     52    AI      OPEN   \n",
       "\n",
       "                                  Gender  Opening Rank  Closing Rank  \\\n",
       "0                         Gender-Neutral     -0.151955     -0.140195   \n",
       "1  Female-only (including Supernumerary)      0.012049     -0.046660   \n",
       "\n",
       "       Year     Round  \n",
       "0 -1.298178 -1.433248  \n",
       "1 -1.298178 -1.433248  "
      ]
     },
     "execution_count": 18,
     "metadata": {},
     "output_type": "execute_result"
    }
   ],
   "source": [
    "from sklearn.preprocessing import MinMaxScaler,StandardScaler\n",
    "columns_to_scale = ['Opening Rank', 'Closing Rank', 'Year','Round']\n",
    "scaler = StandardScaler()\n",
    "scaler.fit(train[columns_to_scale])\n",
    "train[columns_to_scale] = scaler.transform(train[columns_to_scale])\n",
    "test[columns_to_scale] = scaler.transform(test[columns_to_scale])\n",
    "\n",
    "train.head(2)"
   ]
  },
  {
   "cell_type": "code",
   "execution_count": 19,
   "id": "9a479860",
   "metadata": {
    "execution": {
     "iopub.execute_input": "2023-03-11T21:30:07.633553Z",
     "iopub.status.busy": "2023-03-11T21:30:07.633102Z",
     "iopub.status.idle": "2023-03-11T21:30:08.214339Z",
     "shell.execute_reply": "2023-03-11T21:30:08.213412Z"
    },
    "papermill": {
     "duration": 0.600598,
     "end_time": "2023-03-11T21:30:08.218286",
     "exception": false,
     "start_time": "2023-03-11T21:30:07.617688",
     "status": "completed"
    },
    "tags": []
   },
   "outputs": [
    {
     "data": {
      "text/plain": [
       "Text(0.5, 1.0, 'Correlation Matrix of Dataset')"
      ]
     },
     "execution_count": 19,
     "metadata": {},
     "output_type": "execute_result"
    },
    {
     "data": {
      "image/png": "[encoded data removed]",
      "text/plain": [
       "<Figure size 700x600 with 2 Axes>"
      ]
     },
     "metadata": {},
     "output_type": "display_data"
    }
   ],
   "source": [
    "total = pd.concat([train,test])\n",
    "corr_matrix = total.corr()\n",
    "\n",
    "# Create heatmap with larger size\n",
    "fig, ax = plt.subplots(figsize=(7, 6))\n",
    "sns.heatmap(corr_matrix, annot=True, cmap=\"coolwarm\", ax=ax)\n",
    "ax.set_title(\"Correlation Matrix of Dataset\")"
   ]
  },
  {
   "cell_type": "code",
   "execution_count": 20,
   "id": "f447602e",
   "metadata": {
    "execution": {
     "iopub.execute_input": "2023-03-11T21:30:08.251248Z",
     "iopub.status.busy": "2023-03-11T21:30:08.250634Z",
     "iopub.status.idle": "2023-03-11T21:30:08.263112Z",
     "shell.execute_reply": "2023-03-11T21:30:08.261950Z"
    },
    "papermill": {
     "duration": 0.031265,
     "end_time": "2023-03-11T21:30:08.265436",
     "exception": false,
     "start_time": "2023-03-11T21:30:08.234171",
     "status": "completed"
    },
    "tags": []
   },
   "outputs": [
    {
     "data": {
      "text/html": [
       "<div>\n",
       "<style scoped>\n",
       "    .dataframe tbody tr th:only-of-type {\n",
       "        vertical-align: middle;\n",
       "    }\n",
       "\n",
       "    .dataframe tbody tr th {\n",
       "        vertical-align: top;\n",
       "    }\n",
       "\n",
       "    .dataframe thead th {\n",
       "        text-align: right;\n",
       "    }\n",
       "</style>\n",
       "<table border=\"1\" class=\"dataframe\">\n",
       "  <thead>\n",
       "    <tr style=\"text-align: right;\">\n",
       "      <th></th>\n",
       "      <th>Quota</th>\n",
       "      <th>Seat Type</th>\n",
       "      <th>Gender</th>\n",
       "      <th>Opening Rank</th>\n",
       "      <th>Closing Rank</th>\n",
       "      <th>Year</th>\n",
       "      <th>Round</th>\n",
       "    </tr>\n",
       "  </thead>\n",
       "  <tbody>\n",
       "    <tr>\n",
       "      <th>0</th>\n",
       "      <td>AI</td>\n",
       "      <td>OPEN</td>\n",
       "      <td>Gender-Neutral</td>\n",
       "      <td>5057</td>\n",
       "      <td>6780</td>\n",
       "      <td>2018</td>\n",
       "      <td>1</td>\n",
       "    </tr>\n",
       "    <tr>\n",
       "      <th>1</th>\n",
       "      <td>AI</td>\n",
       "      <td>OPEN</td>\n",
       "      <td>Female-only (including Supernumerary)</td>\n",
       "      <td>10078</td>\n",
       "      <td>10789</td>\n",
       "      <td>2018</td>\n",
       "      <td>1</td>\n",
       "    </tr>\n",
       "  </tbody>\n",
       "</table>\n",
       "</div>"
      ],
      "text/plain": [
       "  Quota Seat Type                                 Gender  Opening Rank  \\\n",
       "0    AI      OPEN                         Gender-Neutral          5057   \n",
       "1    AI      OPEN  Female-only (including Supernumerary)         10078   \n",
       "\n",
       "   Closing Rank  Year  Round  \n",
       "0          6780  2018      1  \n",
       "1         10789  2018      1  "
      ]
     },
     "execution_count": 20,
     "metadata": {},
     "output_type": "execute_result"
    }
   ],
   "source": [
    "x_train.head(2)"
   ]
  },
  {
   "cell_type": "markdown",
   "id": "676ca098",
   "metadata": {
    "execution": {
     "iopub.execute_input": "2023-03-11T16:29:10.190884Z",
     "iopub.status.busy": "2023-03-11T16:29:10.189904Z",
     "iopub.status.idle": "2023-03-11T16:29:10.212259Z",
     "shell.execute_reply": "2023-03-11T16:29:10.210284Z",
     "shell.execute_reply.started": "2023-03-11T16:29:10.190829Z"
    },
    "papermill": {
     "duration": 0.014947,
     "end_time": "2023-03-11T21:30:08.295471",
     "exception": false,
     "start_time": "2023-03-11T21:30:08.280524",
     "status": "completed"
    },
    "tags": []
   },
   "source": [
    "> We will obtain results for 'Quota', 'Seat Type', and 'Gender' by applying Onehot encoding and Ordinal encoding."
   ]
  },
  {
   "cell_type": "markdown",
   "id": "e9ac40ce",
   "metadata": {
    "papermill": {
     "duration": 0.014878,
     "end_time": "2023-03-11T21:30:08.325685",
     "exception": false,
     "start_time": "2023-03-11T21:30:08.310807",
     "status": "completed"
    },
    "tags": []
   },
   "source": [
    "> ***Using Onehot Encoding***"
   ]
  },
  {
   "cell_type": "code",
   "execution_count": 21,
   "id": "d9bcdfd5",
   "metadata": {
    "execution": {
     "iopub.execute_input": "2023-03-11T21:30:08.358448Z",
     "iopub.status.busy": "2023-03-11T21:30:08.357142Z",
     "iopub.status.idle": "2023-03-11T21:30:08.749326Z",
     "shell.execute_reply": "2023-03-11T21:30:08.747912Z"
    },
    "papermill": {
     "duration": 0.41195,
     "end_time": "2023-03-11T21:30:08.752610",
     "exception": false,
     "start_time": "2023-03-11T21:30:08.340660",
     "status": "completed"
    },
    "tags": []
   },
   "outputs": [
    {
     "name": "stdout",
     "output_type": "stream",
     "text": [
      "[[0.0000e+00 0.0000e+00 0.0000e+00 ... 1.1771e+04 2.0220e+03 1.0000e+00]\n",
      " [0.0000e+00 0.0000e+00 0.0000e+00 ... 2.0164e+04 2.0220e+03 1.0000e+00]\n",
      " [0.0000e+00 0.0000e+00 0.0000e+00 ... 1.7440e+03 2.0220e+03 1.0000e+00]\n",
      " ...\n",
      " [0.0000e+00 0.0000e+00 0.0000e+00 ... 2.4055e+04 2.0220e+03 6.0000e+00]\n",
      " [0.0000e+00 0.0000e+00 0.0000e+00 ... 1.2435e+04 2.0220e+03 6.0000e+00]\n",
      " [0.0000e+00 0.0000e+00 0.0000e+00 ... 5.4090e+03 2.0220e+03 6.0000e+00]]\n"
     ]
    }
   ],
   "source": [
    "from sklearn.compose import ColumnTransformer\n",
    "# transformer = ColumnTransformer(transformers=[\n",
    "#     ('tnf1',SimpleImputer(),['fever']),\n",
    "#     ('tnf2',OrdinalEncoder(categories=[['Mild','Strong']]),['cough']),\n",
    "#     ('tnf3',OneHotEncoder(sparse=False,drop='first'),['gender','city'])\n",
    "# ],remainder='passthrough')\n",
    "\"\"\"SimpleImputer is used to handle missing values in the dataset.\n",
    "It replaces missing values in a column with a specified strategy, such as mean, median, mode,\n",
    "or a user-defined constant value.\"\"\"\n",
    "transformer = ColumnTransformer(transformers=[\n",
    "    ('tnf3',OneHotEncoder(sparse=False,drop='first'),['Quota', 'Seat Type', 'Gender'])\n",
    "],remainder='passthrough')\n",
    "\n",
    "x_train = transformer.fit_transform(x_train)\n",
    "x_test = transformer.transform(x_test)\n",
    "print(x_test)"
   ]
  },
  {
   "cell_type": "code",
   "execution_count": 22,
   "id": "9943201d",
   "metadata": {
    "execution": {
     "iopub.execute_input": "2023-03-11T21:30:08.786708Z",
     "iopub.status.busy": "2023-03-11T21:30:08.785392Z",
     "iopub.status.idle": "2023-03-11T21:30:08.793296Z",
     "shell.execute_reply": "2023-03-11T21:30:08.792175Z"
    },
    "papermill": {
     "duration": 0.027067,
     "end_time": "2023-03-11T21:30:08.795484",
     "exception": false,
     "start_time": "2023-03-11T21:30:08.768417",
     "status": "completed"
    },
    "tags": []
   },
   "outputs": [
    {
     "data": {
      "text/plain": [
       "(58874, 20)"
      ]
     },
     "execution_count": 22,
     "metadata": {},
     "output_type": "execute_result"
    }
   ],
   "source": [
    "x_test.shape"
   ]
  },
  {
   "cell_type": "code",
   "execution_count": 23,
   "id": "0edee4ab",
   "metadata": {
    "execution": {
     "iopub.execute_input": "2023-03-11T21:30:08.828048Z",
     "iopub.status.busy": "2023-03-11T21:30:08.827112Z",
     "iopub.status.idle": "2023-03-11T21:30:08.834052Z",
     "shell.execute_reply": "2023-03-11T21:30:08.832950Z"
    },
    "papermill": {
     "duration": 0.025948,
     "end_time": "2023-03-11T21:30:08.836435",
     "exception": false,
     "start_time": "2023-03-11T21:30:08.810487",
     "status": "completed"
    },
    "tags": []
   },
   "outputs": [
    {
     "data": {
      "text/plain": [
       "(189632, 20)"
      ]
     },
     "execution_count": 23,
     "metadata": {},
     "output_type": "execute_result"
    }
   ],
   "source": [
    "x_train.shape"
   ]
  },
  {
   "cell_type": "code",
   "execution_count": 24,
   "id": "9b432eb8",
   "metadata": {
    "execution": {
     "iopub.execute_input": "2023-03-11T21:30:08.869175Z",
     "iopub.status.busy": "2023-03-11T21:30:08.868167Z",
     "iopub.status.idle": "2023-03-11T21:30:08.876554Z",
     "shell.execute_reply": "2023-03-11T21:30:08.875409Z"
    },
    "papermill": {
     "duration": 0.027286,
     "end_time": "2023-03-11T21:30:08.878953",
     "exception": false,
     "start_time": "2023-03-11T21:30:08.851667",
     "status": "completed"
    },
    "tags": []
   },
   "outputs": [
    {
     "data": {
      "text/plain": [
       "(189632,)"
      ]
     },
     "execution_count": 24,
     "metadata": {},
     "output_type": "execute_result"
    }
   ],
   "source": [
    "y_train = train.iloc[:, 0].values.ravel()\n",
    "y_test = test.iloc[:, 0].values.ravel()\n",
    "y_train.shape"
   ]
  },
  {
   "cell_type": "code",
   "execution_count": 25,
   "id": "478a5659",
   "metadata": {
    "execution": {
     "iopub.execute_input": "2023-03-11T21:30:08.912094Z",
     "iopub.status.busy": "2023-03-11T21:30:08.911706Z",
     "iopub.status.idle": "2023-03-11T21:30:08.918798Z",
     "shell.execute_reply": "2023-03-11T21:30:08.917675Z"
    },
    "papermill": {
     "duration": 0.026883,
     "end_time": "2023-03-11T21:30:08.921163",
     "exception": false,
     "start_time": "2023-03-11T21:30:08.894280",
     "status": "completed"
    },
    "tags": []
   },
   "outputs": [
    {
     "data": {
      "text/plain": [
       "array([ 41,  41,  41, ..., 104, 104, 104])"
      ]
     },
     "execution_count": 25,
     "metadata": {},
     "output_type": "execute_result"
    }
   ],
   "source": [
    "y_train"
   ]
  },
  {
   "cell_type": "code",
   "execution_count": 26,
   "id": "4c35127a",
   "metadata": {
    "execution": {
     "iopub.execute_input": "2023-03-11T21:30:08.954672Z",
     "iopub.status.busy": "2023-03-11T21:30:08.954219Z",
     "iopub.status.idle": "2023-03-11T21:30:09.125600Z",
     "shell.execute_reply": "2023-03-11T21:30:09.123966Z"
    },
    "papermill": {
     "duration": 0.193145,
     "end_time": "2023-03-11T21:30:09.130121",
     "exception": false,
     "start_time": "2023-03-11T21:30:08.936976",
     "status": "completed"
    },
    "tags": []
   },
   "outputs": [
    {
     "name": "stdout",
     "output_type": "stream",
     "text": [
      "Mean squared error: 597.92\n",
      "Coefficient of determination (R^2): 0.34\n",
      "0.335930194372956\n"
     ]
    }
   ],
   "source": [
    "from sklearn.linear_model import LinearRegression\n",
    "from sklearn.model_selection import train_test_split\n",
    "from sklearn.metrics import mean_squared_error, r2_score\n",
    "\n",
    "# Create a linear regression model\n",
    "regressor = LinearRegression()\n",
    "\n",
    "# Train the model using the training sets\n",
    "regressor.fit(x_train, y_train)\n",
    "\n",
    "# Make predictions on the testing set\n",
    "y_pred = regressor.predict(x_test)\n",
    "\n",
    "# Print the performance metrics\n",
    "print('Mean squared error: %.2f' % mean_squared_error(y_test, y_pred))\n",
    "print('Coefficient of determination (R^2): %.2f' % r2_score(y_test, y_pred))\n",
    "print(regressor.score(x_test, y_test))"
   ]
  },
  {
   "cell_type": "code",
   "execution_count": 27,
   "id": "823cb51a",
   "metadata": {
    "execution": {
     "iopub.execute_input": "2023-03-11T21:30:09.212276Z",
     "iopub.status.busy": "2023-03-11T21:30:09.211579Z",
     "iopub.status.idle": "2023-03-11T21:30:09.242975Z",
     "shell.execute_reply": "2023-03-11T21:30:09.241577Z"
    },
    "papermill": {
     "duration": 0.075866,
     "end_time": "2023-03-11T21:30:09.245583",
     "exception": false,
     "start_time": "2023-03-11T21:30:09.169717",
     "status": "completed"
    },
    "tags": []
   },
   "outputs": [
    {
     "name": "stdout",
     "output_type": "stream",
     "text": [
      "[[22925  3214]\n",
      " [ 2106 30629]]\n"
     ]
    }
   ],
   "source": [
    "# Import the necessary libraries\n",
    "from sklearn.metrics import confusion_matrix\n",
    "\n",
    "# Convert the continuous target variable to binary classes\n",
    "y_test_class = np.where(y_test > np.mean(y_train), 1, 0)\n",
    "y_pred_class = np.where(y_pred > np.mean(y_train), 1, 0)\n",
    "\n",
    "# Compute the confusion matrix\n",
    "confusion_matrix = confusion_matrix(y_test_class, y_pred_class)\n",
    "print(confusion_matrix)\n"
   ]
  },
  {
   "cell_type": "code",
   "execution_count": 28,
   "id": "6f5adf7f",
   "metadata": {
    "execution": {
     "iopub.execute_input": "2023-03-11T21:30:09.279241Z",
     "iopub.status.busy": "2023-03-11T21:30:09.278455Z",
     "iopub.status.idle": "2023-03-11T21:30:09.302663Z",
     "shell.execute_reply": "2023-03-11T21:30:09.301125Z"
    },
    "papermill": {
     "duration": 0.044169,
     "end_time": "2023-03-11T21:30:09.305395",
     "exception": false,
     "start_time": "2023-03-11T21:30:09.261226",
     "status": "completed"
    },
    "tags": []
   },
   "outputs": [
    {
     "name": "stdout",
     "output_type": "stream",
     "text": [
      "Precision: [0.91586433 0.90503206]\n",
      "Recall: [0.87704197 0.93566519]\n",
      "F1-score: [0.89603283 0.92009372]\n",
      "Support: [26139 32735]\n"
     ]
    }
   ],
   "source": [
    "# Import the necessary libraries\n",
    "from sklearn.metrics import precision_recall_fscore_support\n",
    "\n",
    "# Convert the continuous target variable to binary classes\n",
    "y_test_class = np.where(y_test > np.mean(y_train), 1, 0)\n",
    "y_pred_class = np.where(y_pred > np.mean(y_train), 1, 0)\n",
    "\n",
    "# Compute the precision, recall, F1-score, and support\n",
    "precision, recall, f1_score, support = precision_recall_fscore_support(y_test_class, y_pred_class)\n",
    "\n",
    "# Print the result\n",
    "print('Precision:', precision)\n",
    "print('Recall:', recall)\n",
    "print('F1-score:', f1_score)\n",
    "print('Support:', support)\n"
   ]
  },
  {
   "cell_type": "code",
   "execution_count": null,
   "id": "05e0fabe",
   "metadata": {
    "papermill": {
     "duration": 0.01609,
     "end_time": "2023-03-11T21:30:09.337615",
     "exception": false,
     "start_time": "2023-03-11T21:30:09.321525",
     "status": "completed"
    },
    "tags": []
   },
   "outputs": [],
   "source": []
  },
  {
   "cell_type": "code",
   "execution_count": 29,
   "id": "e469733f",
   "metadata": {
    "execution": {
     "iopub.execute_input": "2023-03-11T21:30:09.371427Z",
     "iopub.status.busy": "2023-03-11T21:30:09.371031Z",
     "iopub.status.idle": "2023-03-11T21:30:09.376077Z",
     "shell.execute_reply": "2023-03-11T21:30:09.374865Z"
    },
    "papermill": {
     "duration": 0.025407,
     "end_time": "2023-03-11T21:30:09.378884",
     "exception": false,
     "start_time": "2023-03-11T21:30:09.353477",
     "status": "completed"
    },
    "tags": []
   },
   "outputs": [],
   "source": [
    "# from sklearn.linear_model import LogisticRegression\n",
    "# from sklearn.ensemble import AdaBoostClassifier, BaggingClassifier, GradientBoostingClassifier, RandomForestClassifier\n",
    "# from sklearn.svm import SVC\n",
    "# from sklearn.tree import DecisionTreeClassifier\n",
    "# from sklearn.neighbors import KNeighborsClassifier\n",
    "# from xgboost import XGBClassifier\n",
    "# from catboost import CatBoostClassifier\n",
    "# from lightgbm import LGBMClassifier\n",
    "# from sklearn.metrics import accuracy_score\n",
    "\n",
    "# import warnings\n",
    "# warnings.filterwarnings(\"ignore\")\n",
    "\n",
    "# models = {\n",
    "#     \"Logistic\": LogisticRegression(),\n",
    "#     \"rfClassifier\": RandomForestClassifier(n_estimators=100, max_depth=10),\n",
    "#     \"tree\": DecisionTreeClassifier(max_depth = 5, criterion = \"gini\"),\n",
    "#     \"knClassifier\": KNeighborsClassifier(n_neighbors = 5),\n",
    "#     \"gBoost\": GradientBoostingClassifier(n_estimators=100, max_depth=10),\n",
    "#     \"Ada Boost\": AdaBoostClassifier(n_estimators = 150),\n",
    "#     \"lightGBM\": LGBMClassifier(n_estimators=100, max_depth=10),\n",
    "# }\n",
    "\n",
    "# accuracy_scores = []\n",
    "# predicted = []\n",
    "\n",
    "# for i in models:\n",
    "#     models[i].fit(x_train, y_train)\n",
    "#     y_pred = models[i].predict(x_test)\n",
    "#     accuracy_scores.append(int(accuracy_score(y_pred, y_test) * 100))\n",
    "#     predicted.append(y_pred)\n",
    "\n",
    "# for j, k in zip(accuracy_scores, models):\n",
    "#     print (' ', k, ' accuracy : ', j, ' %  ')"
   ]
  },
  {
   "cell_type": "code",
   "execution_count": 30,
   "id": "962cf4fe",
   "metadata": {
    "execution": {
     "iopub.execute_input": "2023-03-11T21:30:09.412017Z",
     "iopub.status.busy": "2023-03-11T21:30:09.411614Z",
     "iopub.status.idle": "2023-03-11T21:30:09.416805Z",
     "shell.execute_reply": "2023-03-11T21:30:09.415498Z"
    },
    "papermill": {
     "duration": 0.024535,
     "end_time": "2023-03-11T21:30:09.419175",
     "exception": false,
     "start_time": "2023-03-11T21:30:09.394640",
     "status": "completed"
    },
    "tags": []
   },
   "outputs": [],
   "source": [
    "# plt.figure(figsize = (25, 8))\n",
    "# ax = sns.barplot(x = list(models.keys()), y = accuracy_scores)\n",
    "# for i in ax.patches:\n",
    "#     width, height = i.get_width(), i.get_height()\n",
    "#     x, y = i.get_xy()\n",
    "#     ax.annotate(f'{round(height,2)}%', (x + width/2, y + height*1.02), ha='center')\n",
    "\n",
    "# print (list(models.keys())[accuracy_scores.index(max(accuracy_scores))], \" : \" ,max(accuracy_scores), \" %\")"
   ]
  },
  {
   "cell_type": "code",
   "execution_count": null,
   "id": "e80e3af4",
   "metadata": {
    "papermill": {
     "duration": 0.015959,
     "end_time": "2023-03-11T21:30:09.450480",
     "exception": false,
     "start_time": "2023-03-11T21:30:09.434521",
     "status": "completed"
    },
    "tags": []
   },
   "outputs": [],
   "source": []
  }
 ],
 "metadata": {
  "kernelspec": {
   "display_name": "Python 3",
   "language": "python",
   "name": "python3"
  },
  "language_info": {
   "codemirror_mode": {
    "name": "ipython",
    "version": 3
   },
   "file_extension": ".py",
   "mimetype": "text/x-python",
   "name": "python",
   "nbconvert_exporter": "python",
   "pygments_lexer": "ipython3",
   "version": "3.7.12"
  },
  "papermill": {
   "default_parameters": {},
   "duration": 20.933374,
   "end_time": "2023-03-11T21:30:10.388572",
   "environment_variables": {},
   "exception": null,
   "input_path": "__notebook__.ipynb",
   "output_path": "__notebook__.ipynb",
   "parameters": {},
   "start_time": "2023-03-11T21:29:49.455198",
   "version": "2.4.0"
  }
 },
 "nbformat": 4,
 "nbformat_minor": 5
}
